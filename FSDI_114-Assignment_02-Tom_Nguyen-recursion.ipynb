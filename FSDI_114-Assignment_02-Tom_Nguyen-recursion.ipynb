{
 "cells": [
  {
   "cell_type": "markdown",
   "id": "eb333e8b",
   "metadata": {},
   "source": [
    "### Solve the following coding challenges:\n",
    "\n",
    "1. Given a string, write a function that uses recursion to reverse it.\n",
    "\n",
    "2. Given a list of integers, write a function that will return a list, in which for each index the element will be the product of all the integers except for the element at that index.\n",
    "\n",
    "For example, an input of [1, 2, 3, 4] would return [24, 12, 8, 6] by performing [2x3x4, 1x3x4, 1x2x4, 1x2x3].\n",
    "\n",
    "You cannot use division in your answer! Meaning you can't simply multiply all the numbers and then divide by each element for each index!"
   ]
  },
  {
   "cell_type": "markdown",
   "id": "90962ba5",
   "metadata": {},
   "source": [
    "***\n",
    "### notes for question 1.1:\n",
    "What is the Base case for recursion?\n",
    "- When the string length is zero.\n",
    "- pop until size is 1\n",
    "- 'bat' -> b func('at') -> b, a func('t')"
   ]
  },
  {
   "cell_type": "code",
   "execution_count": 256,
   "id": "c90450a0",
   "metadata": {},
   "outputs": [],
   "source": [
    "given_string = 'ebuTuoY'\n",
    "given_string2 = 'dlrow\\nolleh'\n",
    "given_string3 = 'dlrow olleh'"
   ]
  },
  {
   "cell_type": "markdown",
   "id": "73107503",
   "metadata": {},
   "source": [
    "***\n",
    "#### First do it without recursion: (without using slice [::-1])"
   ]
  },
  {
   "cell_type": "code",
   "execution_count": 257,
   "id": "9ba62f25",
   "metadata": {},
   "outputs": [],
   "source": [
    "def answer_without_recursion(string):\n",
    "    answer = ''\n",
    "    for letter in string:\n",
    "        answer = letter + answer\n",
    "    return answer"
   ]
  },
  {
   "cell_type": "code",
   "execution_count": 258,
   "id": "412e1ee5",
   "metadata": {},
   "outputs": [
    {
     "data": {
      "text/plain": [
       "'YouTube'"
      ]
     },
     "execution_count": 258,
     "metadata": {},
     "output_type": "execute_result"
    }
   ],
   "source": [
    "answer_without_recursion(given_string)\n"
   ]
  },
  {
   "cell_type": "code",
   "execution_count": 259,
   "id": "df5dcc23",
   "metadata": {},
   "outputs": [
    {
     "data": {
      "text/plain": [
       "'hello\\nworld'"
      ]
     },
     "execution_count": 259,
     "metadata": {},
     "output_type": "execute_result"
    }
   ],
   "source": [
    "answer_without_recursion(given_string2)"
   ]
  },
  {
   "cell_type": "code",
   "execution_count": 260,
   "id": "a829bdf9",
   "metadata": {},
   "outputs": [
    {
     "data": {
      "text/plain": [
       "'hello world'"
      ]
     },
     "execution_count": 260,
     "metadata": {},
     "output_type": "execute_result"
    }
   ],
   "source": [
    "answer_without_recursion(given_string3)"
   ]
  },
  {
   "cell_type": "markdown",
   "id": "6a658074",
   "metadata": {},
   "source": [
    "***\n",
    "#### test output to see what recursion looks like:"
   ]
  },
  {
   "cell_type": "code",
   "execution_count": 261,
   "id": "390036af",
   "metadata": {},
   "outputs": [],
   "source": [
    "def test(string):\n",
    "    string = list(string)\n",
    "    print(f'len: {len(string)}')\n",
    "    if (len(string)) == 1:\n",
    "        return string.pop()\n",
    "    print('{}'.format(string))\n",
    "    return string.pop() + test(string)"
   ]
  },
  {
   "cell_type": "code",
   "execution_count": 262,
   "id": "37dd9416",
   "metadata": {},
   "outputs": [
    {
     "name": "stdout",
     "output_type": "stream",
     "text": [
      "len: 7\n",
      "['e', 'b', 'u', 'T', 'u', 'o', 'Y']\n",
      "len: 6\n",
      "['e', 'b', 'u', 'T', 'u', 'o']\n",
      "len: 5\n",
      "['e', 'b', 'u', 'T', 'u']\n",
      "len: 4\n",
      "['e', 'b', 'u', 'T']\n",
      "len: 3\n",
      "['e', 'b', 'u']\n",
      "len: 2\n",
      "['e', 'b']\n",
      "len: 1\n"
     ]
    },
    {
     "data": {
      "text/plain": [
       "'YouTube'"
      ]
     },
     "execution_count": 262,
     "metadata": {},
     "output_type": "execute_result"
    }
   ],
   "source": [
    "test(given_string)"
   ]
  },
  {
   "cell_type": "markdown",
   "id": "681d066e",
   "metadata": {},
   "source": [
    "***\n",
    "# Solution for 1.1:"
   ]
  },
  {
   "cell_type": "code",
   "execution_count": 263,
   "id": "ca33e77e",
   "metadata": {},
   "outputs": [],
   "source": [
    "def recursion_reverse(string):\n",
    "    string = list(string)\n",
    "    if len(string) == 1:\n",
    "        return string.pop()\n",
    "    return string.pop() + recursion_reverse(string)\n",
    "    "
   ]
  },
  {
   "cell_type": "code",
   "execution_count": 264,
   "id": "676e167c",
   "metadata": {},
   "outputs": [
    {
     "data": {
      "text/plain": [
       "'YouTube'"
      ]
     },
     "execution_count": 264,
     "metadata": {},
     "output_type": "execute_result"
    }
   ],
   "source": [
    "recursion_reverse(given_string)"
   ]
  },
  {
   "cell_type": "code",
   "execution_count": 265,
   "id": "7dfc9784",
   "metadata": {},
   "outputs": [
    {
     "data": {
      "text/plain": [
       "'hello\\nworld'"
      ]
     },
     "execution_count": 265,
     "metadata": {},
     "output_type": "execute_result"
    }
   ],
   "source": [
    "recursion_reverse(given_string2)"
   ]
  },
  {
   "cell_type": "code",
   "execution_count": 266,
   "id": "228fbc18",
   "metadata": {},
   "outputs": [
    {
     "data": {
      "text/plain": [
       "'hello world'"
      ]
     },
     "execution_count": 266,
     "metadata": {},
     "output_type": "execute_result"
    }
   ],
   "source": [
    "recursion_reverse(given_string3)"
   ]
  },
  {
   "cell_type": "markdown",
   "id": "4f785f21",
   "metadata": {},
   "source": [
    "***\n",
    "### Notes for question 1.2:\n",
    "Given a list of integers, write a function that will return a list, in which for each index the element will be the product of all the integers except for the element at that index.\n",
    "\n",
    "For example, an input of [1, 2, 3, 4] would return [24, 12, 8, 6] by performing [2x3x4, 1x3x4, 1x2x4, 1x2x3].\n",
    "\n",
    "You cannot use division in your answer! Meaning you can't simply multiply all the numbers and then divide by each element for each index!"
   ]
  },
  {
   "cell_type": "markdown",
   "id": "d2498ae1",
   "metadata": {},
   "source": [
    "#### Issues:\n",
    "<font color='red'>Does not handle letters</font>\n",
    "<br>if there is a zero in the list the product will be zero"
   ]
  },
  {
   "cell_type": "code",
   "execution_count": 267,
   "id": "be62ecbc",
   "metadata": {},
   "outputs": [],
   "source": [
    "given_a_list = [1, 2, 3, 4]\n",
    "given_a_list2 = [-1, 2, -3, 4]\n",
    "given_a_list3 = [ 4, 9, 11, 72]\n",
    "given_a_list4 = [ 4, 9, 72, 0]"
   ]
  },
  {
   "cell_type": "markdown",
   "id": "7eaa97a3",
   "metadata": {},
   "source": [
    "#### solution:\n",
    "- remove the a number out of the list and then multiple all the other numbers\n",
    "- [1,2,3,4] : [1] [2,3,4] -> [2] [1,3,4] -> [3] [1,2,4] -> [4] [1,2,3]"
   ]
  },
  {
   "cell_type": "markdown",
   "id": "1932990a",
   "metadata": {},
   "source": [
    "#### solving without recursion first:"
   ]
  },
  {
   "cell_type": "markdown",
   "id": "ccefaa45",
   "metadata": {},
   "source": [
    "# Solution for 1.2\n",
    "##### this function will multiply all the number in a given list"
   ]
  },
  {
   "cell_type": "code",
   "execution_count": 268,
   "id": "d1de6809",
   "metadata": {},
   "outputs": [],
   "source": [
    "def product_of_all_numbers(list_numbers):\n",
    "    product=1\n",
    "    for number in list_numbers:\n",
    "        product = number * product\n",
    "    return product"
   ]
  },
  {
   "cell_type": "code",
   "execution_count": 269,
   "id": "fc737f35",
   "metadata": {},
   "outputs": [
    {
     "data": {
      "text/plain": [
       "24"
      ]
     },
     "execution_count": 269,
     "metadata": {},
     "output_type": "execute_result"
    }
   ],
   "source": [
    "product_of_all_numbers(given_a_list)"
   ]
  },
  {
   "cell_type": "code",
   "execution_count": 270,
   "id": "3dfe8650",
   "metadata": {},
   "outputs": [],
   "source": [
    "def answer_to_question_2(list_numbers):\n",
    "    store_answer_here = []\n",
    "    for index in range(len(list_numbers)):\n",
    "        copy_list = list_numbers.copy()             # make a copy of list_number\n",
    "        copy_list.remove(list_numbers[index])       # remove the number at that index\n",
    "        product = product_of_all_numbers(copy_list)   # use the function on top\n",
    "        store_answer_here.append(product)           # store the answer into the new list\n",
    "    return store_answer_here\n",
    "        \n",
    "        \n",
    "        "
   ]
  },
  {
   "cell_type": "code",
   "execution_count": 271,
   "id": "296beb44",
   "metadata": {},
   "outputs": [
    {
     "data": {
      "text/plain": [
       "[24, 12, 8, 6]"
      ]
     },
     "execution_count": 271,
     "metadata": {},
     "output_type": "execute_result"
    }
   ],
   "source": [
    "answer_to_question_2(given_a_list)"
   ]
  },
  {
   "cell_type": "code",
   "execution_count": 272,
   "id": "ee3051b6",
   "metadata": {},
   "outputs": [
    {
     "data": {
      "text/plain": [
       "[-24, 12, -8, 6]"
      ]
     },
     "execution_count": 272,
     "metadata": {},
     "output_type": "execute_result"
    }
   ],
   "source": [
    "answer_to_question_2(given_a_list2)"
   ]
  },
  {
   "cell_type": "code",
   "execution_count": 273,
   "id": "1c3f3028",
   "metadata": {},
   "outputs": [
    {
     "data": {
      "text/plain": [
       "[7128, 3168, 2592, 396]"
      ]
     },
     "execution_count": 273,
     "metadata": {},
     "output_type": "execute_result"
    }
   ],
   "source": [
    "answer_to_question_2(given_a_list3)"
   ]
  },
  {
   "cell_type": "code",
   "execution_count": 274,
   "id": "b98f7fc1",
   "metadata": {},
   "outputs": [
    {
     "data": {
      "text/plain": [
       "[0, 0, 0, 2592]"
      ]
     },
     "execution_count": 274,
     "metadata": {},
     "output_type": "execute_result"
    }
   ],
   "source": [
    "answer_to_question_2(given_a_list4)"
   ]
  },
  {
   "cell_type": "markdown",
   "id": "cdf30ec0",
   "metadata": {},
   "source": [
    "# solution for 1.2 using recursion:"
   ]
  },
  {
   "cell_type": "code",
   "execution_count": 275,
   "id": "35b8fe9b",
   "metadata": {},
   "outputs": [],
   "source": [
    "def recursion_solution_2(index, list_number, list_answer):\n",
    "    copy_list = list_number.copy()\n",
    "    copy_list.remove(list_number[index])\n",
    "    list_answer.append(product_of_all_numbers(copy_list))\n",
    "#     print(list_answer)\n",
    "    if index == len(list_number)-1 :                    # base case\n",
    "#         print(f'what am i: {list_answer}')\n",
    "        return list(list_answer)\n",
    "#     print(f'index: {index}, list_number: {list_number}, list_answer: {list_answer}')\n",
    "    return recursion_solution_2(index+1, list_number, list_answer)\n"
   ]
  },
  {
   "cell_type": "code",
   "execution_count": 276,
   "id": "1771c62a",
   "metadata": {},
   "outputs": [
    {
     "data": {
      "text/plain": [
       "[24, 12, 8, 6]"
      ]
     },
     "execution_count": 276,
     "metadata": {},
     "output_type": "execute_result"
    }
   ],
   "source": [
    "recursion_solution_2(0, given_a_list, [])\n"
   ]
  },
  {
   "cell_type": "code",
   "execution_count": 277,
   "id": "fcdc7c0e",
   "metadata": {},
   "outputs": [
    {
     "data": {
      "text/plain": [
       "[-24, 12, -8, 6]"
      ]
     },
     "execution_count": 277,
     "metadata": {},
     "output_type": "execute_result"
    }
   ],
   "source": [
    "recursion_solution_2(0, given_a_list2, [])\n"
   ]
  },
  {
   "cell_type": "code",
   "execution_count": 278,
   "id": "795411ee",
   "metadata": {},
   "outputs": [
    {
     "data": {
      "text/plain": [
       "[7128, 3168, 2592, 396]"
      ]
     },
     "execution_count": 278,
     "metadata": {},
     "output_type": "execute_result"
    }
   ],
   "source": [
    "recursion_solution_2(0, given_a_list3, [])"
   ]
  },
  {
   "cell_type": "code",
   "execution_count": 279,
   "id": "84603f5e",
   "metadata": {},
   "outputs": [
    {
     "data": {
      "text/plain": [
       "[0, 0, 0, 2592]"
      ]
     },
     "execution_count": 279,
     "metadata": {},
     "output_type": "execute_result"
    }
   ],
   "source": [
    "recursion_solution_2(0, given_a_list4, [])"
   ]
  },
  {
   "cell_type": "code",
   "execution_count": null,
   "id": "f6a7112b",
   "metadata": {},
   "outputs": [],
   "source": []
  }
 ],
 "metadata": {
  "kernelspec": {
   "display_name": "Python 3",
   "language": "python",
   "name": "python3"
  },
  "language_info": {
   "codemirror_mode": {
    "name": "ipython",
    "version": 3
   },
   "file_extension": ".py",
   "mimetype": "text/x-python",
   "name": "python",
   "nbconvert_exporter": "python",
   "pygments_lexer": "ipython3",
   "version": "3.8.5"
  }
 },
 "nbformat": 4,
 "nbformat_minor": 5
}
