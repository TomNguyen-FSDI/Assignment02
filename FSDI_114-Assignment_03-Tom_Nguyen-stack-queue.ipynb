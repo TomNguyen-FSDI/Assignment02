{
 "cells": [
  {
   "cell_type": "markdown",
   "id": "ce56f696",
   "metadata": {},
   "source": [
    "# Coding challenges\n",
    "1. Implement a stack\n",
    "\n",
    "Create a class named \"Stack\" that allows you to:\n",
    "\n",
    "a. Check if it is empty\n",
    "\n",
    "b. Push a new item\n",
    "\n",
    "c. Pop an item\n",
    "\n",
    "d. Peek at the top item\n",
    "\n",
    "e. Return the size\n",
    "\n",
    "2. Implement a queue\n",
    "\n",
    "Create a class named \"Queue\" that allows you to:\n",
    "\n",
    "a. Check if the queue is empty\n",
    "\n",
    "b. Enqueue\n",
    "\n",
    "c. Dequeue\n",
    "\n",
    "d. Return the size of the queue"
   ]
  },
  {
   "cell_type": "markdown",
   "id": "2d4b6857",
   "metadata": {},
   "source": [
    "***\n",
    "# Solution to 1.1 - create a Stack class:"
   ]
  },
  {
   "cell_type": "code",
   "execution_count": 29,
   "id": "7b495ebc",
   "metadata": {},
   "outputs": [],
   "source": [
    "class Stack:\n",
    "    def __init__(self):\n",
    "        self.items = []\n",
    "    \n",
    "    def is_empty(self):\n",
    "        return self.items == []    # return a boolean. comparing to an empty list\n",
    "    \n",
    "    def push(self, item):\n",
    "        self.items.append(item)\n",
    "        \n",
    "    def pop(self):\n",
    "        return self.items.pop()\n",
    "    \n",
    "    def peek(self):\n",
    "        return self.items[len(self.items)-1]\n",
    "    \n",
    "    def size(self):\n",
    "        return len(self.items)"
   ]
  },
  {
   "cell_type": "markdown",
   "id": "a90ac3e3",
   "metadata": {},
   "source": [
    "### Example of using this Stack class:"
   ]
  },
  {
   "cell_type": "code",
   "execution_count": 30,
   "id": "ae25e3fe",
   "metadata": {},
   "outputs": [
    {
     "name": "stdout",
     "output_type": "stream",
     "text": [
      "size of stack(0)\n",
      "Hello World\n"
     ]
    }
   ],
   "source": [
    "example_stack = Stack()\n",
    "data_being_used = 'dlroW olleH' \n",
    "temp_string = \"\"\n",
    "\n",
    "for char in data_being_used:\n",
    "    example_stack.push(char)\n",
    "\n",
    "while not example_stack.is_empty():\n",
    "    temp_string += example_stack.pop()\n",
    "print(\"size of stack({})\".format(example_stack.size()))\n",
    "print(temp_string)\n"
   ]
  },
  {
   "cell_type": "markdown",
   "id": "cc61c8b3",
   "metadata": {},
   "source": [
    "***\n",
    "# Solution to 1.2 - create a Queue class:"
   ]
  },
  {
   "cell_type": "code",
   "execution_count": 31,
   "id": "cbb51f19",
   "metadata": {},
   "outputs": [],
   "source": [
    "class Queue:\n",
    "    def __init__(self):\n",
    "        self.items = []\n",
    "    \n",
    "    def is_empty(self):\n",
    "        return self.items == []\n",
    "    \n",
    "    def enqueue(self, item):\n",
    "        self.items.insert(0, item)\n",
    "        \n",
    "    def dequeue(self):\n",
    "        return self.items.pop()\n",
    "    \n",
    "    def size(self):\n",
    "        return len(self.items)"
   ]
  },
  {
   "cell_type": "markdown",
   "id": "128971b3",
   "metadata": {},
   "source": [
    "### Example of using Queue class:"
   ]
  },
  {
   "cell_type": "code",
   "execution_count": 32,
   "id": "26ea9b2e",
   "metadata": {},
   "outputs": [
    {
     "name": "stdout",
     "output_type": "stream",
     "text": [
      "size of queue(0)\n",
      "Hello World\n"
     ]
    }
   ],
   "source": [
    "example_queue = Queue()\n",
    "data_being_used = 'Hello World'\n",
    "temp_string = \"\"\n",
    "\n",
    "for char in data_being_used:\n",
    "    example_queue.enqueue(char)\n",
    "while not example_queue.is_empty():\n",
    "    temp_string += example_queue.dequeue()\n",
    "print(f'size of queue({example_queue.size()})')\n",
    "print('{}'.format(temp_string))"
   ]
  }
 ],
 "metadata": {
  "kernelspec": {
   "display_name": "Python 3",
   "language": "python",
   "name": "python3"
  },
  "language_info": {
   "codemirror_mode": {
    "name": "ipython",
    "version": 3
   },
   "file_extension": ".py",
   "mimetype": "text/x-python",
   "name": "python",
   "nbconvert_exporter": "python",
   "pygments_lexer": "ipython3",
   "version": "3.8.5"
  }
 },
 "nbformat": 4,
 "nbformat_minor": 5
}
