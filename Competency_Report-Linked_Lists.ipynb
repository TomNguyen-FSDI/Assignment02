{
 "cells": [
  {
   "cell_type": "markdown",
   "id": "eae1c403",
   "metadata": {},
   "source": [
    "### Tom Nguyen\n",
    "<br>Competency Report\n",
    "<br>Linked Lists\n",
    "<br> **Got most of the code from TreeHouse, Pasan Premaratne**"
   ]
  },
  {
   "cell_type": "markdown",
   "id": "9202c07c",
   "metadata": {},
   "source": [
    "# Singly Linked List Implementation:\n",
    "\n",
    "\n",
    "### how it works\n",
    "- a -> b -> c ->d\n",
    "\n",
    "##### Node class"
   ]
  },
  {
   "cell_type": "code",
   "execution_count": 883,
   "id": "1cbb9f49",
   "metadata": {},
   "outputs": [],
   "source": [
    "class Node:\n",
    "    \"\"\"\n",
    "    An object that will store a single node linked list\n",
    "    Model (2) Attributes: data & next_node\n",
    "    \n",
    "    \"\"\"\n",
    "    data = None\n",
    "    next_node = None\n",
    "    \n",
    "    def __init__(self, data):\n",
    "        self.data = data\n",
    "    \n",
    "    \n",
    "    def __repr__(self):  # string representations\n",
    "        return f'<Node data: {self.data}>, <Next Node: {self.next_node}>'"
   ]
  },
  {
   "cell_type": "markdown",
   "id": "8c76f844",
   "metadata": {},
   "source": [
    "#### Signly Linked List"
   ]
  },
  {
   "cell_type": "code",
   "execution_count": 884,
   "id": "194ff746",
   "metadata": {},
   "outputs": [],
   "source": [
    "class LinkedList:\n",
    "    \"\"\"\n",
    "    Singly linked list\n",
    "    Model (1) Attributes: head\n",
    "    \"\"\"\n",
    "    head = None\n",
    "    \n",
    "    def __init__(self):\n",
    "        self.head = None\n",
    "        \n",
    "    \n",
    "    def is_empty(self):\n",
    "        return self.head is None\n",
    "    \n",
    "    \n",
    "    def size(self):\n",
    "        \"\"\"\n",
    "        returns the number of nodes in the singly linked list\n",
    "        will take O(n) times\n",
    "        \"\"\"\n",
    "        current = self.head\n",
    "        count = 0\n",
    "        while current != None:  # same as: while current:\n",
    "            count += 1\n",
    "            current = current.next_node\n",
    "        return count\n",
    "    \n",
    "\n",
    "    def add(self, data):\n",
    "        \"\"\"\n",
    "        Adds new Node containing data at the ehad of the list\n",
    "        \"\"\"\n",
    "        new_node = Node(data)\n",
    "        new_node.next_node = self.head\n",
    "        self.head = new_node\n",
    "        \n",
    "    def search (self, key):\n",
    "        \"\"\"\n",
    "        Search for the first node containing data that matches the key\n",
    "        Return the node or 'None' if not found\n",
    "        Takes O(n) time\n",
    "        \"\"\"\n",
    "        current = self.head\n",
    "        while current:\n",
    "            if current.data == key:\n",
    "                return current\n",
    "            else:\n",
    "                current = current.next_node\n",
    "        return None\n",
    "    \n",
    "    \n",
    "    def insert_at_index(self, data, index):\n",
    "        \"\"\"\n",
    "        Inserts a new Node containing data at index position\n",
    "        Insertion takes O(1) time but finding the node at the insertion point takes O(n) time.\n",
    "        overall O(n) time.\n",
    "        \"\"\"\n",
    "        if index == 0:\n",
    "            self.add(data)\n",
    "            return\n",
    "        if index > self.size():\n",
    "            self.insert_at_index(data,self.size())\n",
    "            return\n",
    "        if index > 0:\n",
    "            new_node = Node(data)\n",
    "            position = index\n",
    "            current = self.head\n",
    "            while position > 1:\n",
    "                current = current.next_node\n",
    "                position -= 1\n",
    "            next_node = current.next_node\n",
    "            prev_node = current\n",
    "            prev_node.next_node = new_node\n",
    "            new_node.next_node = next_node\n",
    "        \n",
    "    def insert(self, data, key):\n",
    "        \"\"\"\n",
    "        Insert a new Node containing data before the key position\n",
    "        Insert takes 0(1) time but finding the node at the insertion point takes O(n) time.\n",
    "        overall O(n) time.\n",
    "        \"\"\"\n",
    "        current = self.head\n",
    "        previous = None\n",
    "        found = False\n",
    "        while current and not found:\n",
    "            if current.data == key and current is self.head:        # First item\n",
    "                found = True\n",
    "                self.add(data)\n",
    "                return\n",
    "            \n",
    "            elif current.data == key:                              # somewhere in the middle\n",
    "                found = True\n",
    "                new_node = Node(data)\n",
    "                previous.next_node = new_node\n",
    "                new_node.next_node = current\n",
    "                return\n",
    "            else:\n",
    "                previous = current\n",
    "                current = current.next_node\n",
    "        self.insert_at_index(data, self.size())                     # add it to last\n",
    "        #self.add(data)\n",
    "\n",
    "\n",
    "    \n",
    "    def remove(self, key):\n",
    "        \"\"\"\n",
    "        Removes Node containing data that matches the key\n",
    "        Returns the node or `None` if key doesn't exist\n",
    "        Takes O(n) time\n",
    "        \"\"\"\n",
    "        current = self.head\n",
    "        previous = None\n",
    "        found = False\n",
    "        while current and not found:\n",
    "            if current.data == key and current is self.head:\n",
    "                found = True\n",
    "                self.head = current.next_node\n",
    "                return current\n",
    "            elif current.data == key:\n",
    "                found = True\n",
    "                previous.next_node = current.next_node\n",
    "                return current\n",
    "            else:\n",
    "                previous = current\n",
    "                current = current.next_node\n",
    "        return None\n",
    "\n",
    "    def remove_at_index(self, index):\n",
    "        \"\"\"\n",
    "        Removes Node at specified index\n",
    "        Takes O(n) time\n",
    "        \"\"\"\n",
    "        if index >= self.size() or index < 0:\n",
    "            return None\n",
    "            raise IndexError('index out of range')\n",
    "        current = self.head\n",
    "        if index == 0:\n",
    "            self.head = current.next_node\n",
    "            return current\n",
    "        position = index\n",
    "        while position > 1:\n",
    "            current = current.next_node\n",
    "            position -= 1\n",
    "        prev_node = current\n",
    "        current = current.next_node\n",
    "        next_node = current.next_node\n",
    "        prev_node.next_node = next_node\n",
    "        return current\n",
    "            \n",
    "        \n",
    "        \n",
    "    def __repr__(self):\n",
    "        \"\"\"\n",
    "        Return a string representation of the list\n",
    "        Takes O(n) time\n",
    "        \"\"\"\n",
    "        nodes = []\n",
    "        current = self.head\n",
    "        while current:  # is not None\n",
    "            if current is self.head:                                  # the start of the linked list\n",
    "                nodes.append(\"[Head: {}]\".format(current.data))\n",
    "            elif current.next_node is None:                           # current the last item in the linked list\n",
    "                nodes.append(\"[Tail: {}]\".format(current.data))\n",
    "            else:                                                     # not the head or the tail  \n",
    "                nodes.append(\"[{}]\".format(current.data))\n",
    "            current = current.next_node\n",
    "        return '-> '.join(nodes)\n",
    "        \n"
   ]
  },
  {
   "cell_type": "markdown",
   "id": "6c8a9580",
   "metadata": {},
   "source": [
    "##### What is happening in the backend:\n",
    "[none] <- [add(1)] <- [add(2)] <- [add(3)]\n",
    "\n",
    "output:\n",
    "- [Head: 3]-> [2]-> [Tail: 1]\n",
    "\n",
    "### Example of how to use Linked List"
   ]
  },
  {
   "cell_type": "code",
   "execution_count": 885,
   "id": "6f29dd84",
   "metadata": {},
   "outputs": [
    {
     "data": {
      "text/plain": [
       "1"
      ]
     },
     "execution_count": 885,
     "metadata": {},
     "output_type": "execute_result"
    }
   ],
   "source": [
    "N1 = Node(10)\n",
    "my_linked = LinkedList()\n",
    "my_linked.head = N1\n",
    "my_linked.size()"
   ]
  },
  {
   "cell_type": "code",
   "execution_count": 886,
   "id": "6cac4d5d",
   "metadata": {},
   "outputs": [
    {
     "data": {
      "text/plain": [
       "[Head: 3]-> [2]-> [Tail: 1]"
      ]
     },
     "execution_count": 886,
     "metadata": {},
     "output_type": "execute_result"
    }
   ],
   "source": [
    "l = LinkedList()\n",
    "l.add(1)\n",
    "l.add(2)\n",
    "l.add(3)\n",
    "l\n"
   ]
  },
  {
   "cell_type": "code",
   "execution_count": 887,
   "id": "5bcd10d6",
   "metadata": {},
   "outputs": [
    {
     "data": {
      "text/plain": [
       "<Node data: 2>, <Next Node: <Node data: 1>, <Next Node: None>>"
      ]
     },
     "execution_count": 887,
     "metadata": {},
     "output_type": "execute_result"
    }
   ],
   "source": [
    "l.add(15)\n",
    "n = l.search(2)\n",
    "n"
   ]
  },
  {
   "cell_type": "code",
   "execution_count": 888,
   "id": "313062a2",
   "metadata": {},
   "outputs": [
    {
     "data": {
      "text/plain": [
       "[Head: 15]-> [3]-> [2]-> [Tail: 1]"
      ]
     },
     "execution_count": 888,
     "metadata": {},
     "output_type": "execute_result"
    }
   ],
   "source": [
    "l"
   ]
  },
  {
   "cell_type": "code",
   "execution_count": 889,
   "id": "4c022004",
   "metadata": {},
   "outputs": [
    {
     "data": {
      "text/plain": [
       "[Head: 15]-> [3]-> [46]-> [2]-> [Tail: 1]"
      ]
     },
     "execution_count": 889,
     "metadata": {},
     "output_type": "execute_result"
    }
   ],
   "source": [
    "l.insert_at_index(46, 2)\n",
    "l"
   ]
  },
  {
   "cell_type": "code",
   "execution_count": 890,
   "id": "887df9d0",
   "metadata": {},
   "outputs": [
    {
     "data": {
      "text/plain": [
       "[Head: 15]-> [3]-> [46]-> [2]-> [1]-> [Tail: 33]"
      ]
     },
     "execution_count": 890,
     "metadata": {},
     "output_type": "execute_result"
    }
   ],
   "source": [
    "l.insert_at_index(33, 88)  # when it is out of range add to end\n",
    "l"
   ]
  },
  {
   "cell_type": "code",
   "execution_count": 891,
   "id": "fb14ea2a",
   "metadata": {},
   "outputs": [
    {
     "data": {
      "text/plain": [
       "6"
      ]
     },
     "execution_count": 891,
     "metadata": {},
     "output_type": "execute_result"
    }
   ],
   "source": [
    "l.size()"
   ]
  },
  {
   "cell_type": "code",
   "execution_count": 892,
   "id": "a292242d",
   "metadata": {},
   "outputs": [
    {
     "data": {
      "text/plain": [
       "[Head: 15]-> [3]-> [13]-> [46]-> [2]-> [1]-> [Tail: 33]"
      ]
     },
     "execution_count": 892,
     "metadata": {},
     "output_type": "execute_result"
    }
   ],
   "source": [
    "l.insert(13, 46)  \n",
    "l"
   ]
  },
  {
   "cell_type": "code",
   "execution_count": 893,
   "id": "172265d1",
   "metadata": {},
   "outputs": [
    {
     "data": {
      "text/plain": [
       "[Head: 15]-> [3]-> [13]-> [46]-> [2]-> [1]-> [0]-> [Tail: 33]"
      ]
     },
     "execution_count": 893,
     "metadata": {},
     "output_type": "execute_result"
    }
   ],
   "source": [
    "l.insert(0,33)  # when key doesn't exist add make it tail\n",
    "l"
   ]
  },
  {
   "cell_type": "code",
   "execution_count": 894,
   "id": "1ad73784",
   "metadata": {},
   "outputs": [
    {
     "data": {
      "text/plain": [
       "[Head: 16]-> [15]-> [3]-> [13]-> [46]-> [2]-> [1]-> [0]-> [Tail: 33]"
      ]
     },
     "execution_count": 894,
     "metadata": {},
     "output_type": "execute_result"
    }
   ],
   "source": [
    "l.insert(16,15)\n",
    "l"
   ]
  },
  {
   "cell_type": "code",
   "execution_count": 895,
   "id": "24791dc2",
   "metadata": {},
   "outputs": [
    {
     "data": {
      "text/plain": [
       "[Head: 15]-> [3]-> [13]-> [46]-> [2]-> [1]-> [0]-> [Tail: 33]"
      ]
     },
     "execution_count": 895,
     "metadata": {},
     "output_type": "execute_result"
    }
   ],
   "source": [
    "l.remove(16)  # remove head\n",
    "l"
   ]
  },
  {
   "cell_type": "code",
   "execution_count": 896,
   "id": "aab5edc3",
   "metadata": {},
   "outputs": [
    {
     "data": {
      "text/plain": [
       "[Head: 15]-> [3]-> [13]-> [2]-> [1]-> [0]-> [Tail: 33]"
      ]
     },
     "execution_count": 896,
     "metadata": {},
     "output_type": "execute_result"
    }
   ],
   "source": [
    "l.remove(46)\n",
    "l"
   ]
  },
  {
   "cell_type": "code",
   "execution_count": 897,
   "id": "a39fc295",
   "metadata": {},
   "outputs": [
    {
     "data": {
      "text/plain": [
       "[Head: 15]-> [3]-> [13]-> [2]-> [1]-> [Tail: 0]"
      ]
     },
     "execution_count": 897,
     "metadata": {},
     "output_type": "execute_result"
    }
   ],
   "source": [
    "l.remove(33)  # remove tail\n",
    "l"
   ]
  },
  {
   "cell_type": "code",
   "execution_count": 898,
   "id": "5cc80a0a",
   "metadata": {},
   "outputs": [
    {
     "data": {
      "text/plain": [
       "[Head: 15]-> [3]-> [13]-> [2]-> [Tail: 1]"
      ]
     },
     "execution_count": 898,
     "metadata": {},
     "output_type": "execute_result"
    }
   ],
   "source": [
    "l.remove_at_index(5)  # remove tail\n",
    "l"
   ]
  },
  {
   "cell_type": "code",
   "execution_count": 899,
   "id": "6bc32f65",
   "metadata": {},
   "outputs": [
    {
     "data": {
      "text/plain": [
       "[Head: 15]-> [3]-> [2]-> [Tail: 1]"
      ]
     },
     "execution_count": 899,
     "metadata": {},
     "output_type": "execute_result"
    }
   ],
   "source": [
    "l.remove_at_index(2)\n",
    "l"
   ]
  },
  {
   "cell_type": "code",
   "execution_count": 900,
   "id": "d289a0a8",
   "metadata": {},
   "outputs": [
    {
     "data": {
      "text/plain": [
       "[Head: 3]-> [2]-> [Tail: 1]"
      ]
     },
     "execution_count": 900,
     "metadata": {},
     "output_type": "execute_result"
    }
   ],
   "source": [
    "l.remove_at_index(0)  # remove at index 0 - head\n",
    "l"
   ]
  },
  {
   "cell_type": "code",
   "execution_count": 901,
   "id": "213da354",
   "metadata": {},
   "outputs": [
    {
     "data": {
      "text/plain": [
       "[Head: 3]-> [2]-> [Tail: 1]"
      ]
     },
     "execution_count": 901,
     "metadata": {},
     "output_type": "execute_result"
    }
   ],
   "source": [
    "l.remove(4)  # does nothing when key is not found\n",
    "l"
   ]
  },
  {
   "cell_type": "code",
   "execution_count": 902,
   "id": "2b185a50",
   "metadata": {},
   "outputs": [
    {
     "data": {
      "text/plain": [
       "[Head: 3]-> [2]-> [Tail: 1]"
      ]
     },
     "execution_count": 902,
     "metadata": {},
     "output_type": "execute_result"
    }
   ],
   "source": [
    "l.remove_at_index(-1)\n",
    "l"
   ]
  },
  {
   "cell_type": "markdown",
   "id": "2076bf72",
   "metadata": {},
   "source": [
    "# Doubly Linked List Implementation:"
   ]
  },
  {
   "cell_type": "code",
   "execution_count": 903,
   "id": "d10194ce",
   "metadata": {},
   "outputs": [],
   "source": [
    "class Node2:\n",
    "    def __init__(self, data, prev_node=None, next_node=None):\n",
    "        self.data = data\n",
    "        self.prev_node = prev_node\n",
    "        self.next_node = next_node\n",
    "\n",
    "    def __repr__(self):\n",
    "        return \"<Node previous: {}><Node data: {}> \".format(self.prev_node, self.data)\n",
    "\n",
    "class DoublyLinkedList:\n",
    "    def __init__(self):\n",
    "        self.head = None\n",
    "\n",
    "    def is_empty(self):\n",
    "        return self.head is None\n",
    "\n",
    "    def size(self):\n",
    "        \"\"\"\n",
    "        returns the number of nodes in the singly linked list\n",
    "        will take O(n) times\n",
    "        \"\"\"\n",
    "        current = self.head\n",
    "        count = 0\n",
    "        while current != None:  # same as: while current:\n",
    "            count += 1\n",
    "            current = current.next_node\n",
    "        return count\n",
    "    \n",
    "    \n",
    "    def add(self, data):\n",
    "        \"\"\"\n",
    "        Adds new Node containing data at the head of the list\n",
    "        \"\"\"\n",
    "        new_node = Node2(data, prev_node=None, next_node= self.head)\n",
    "        if not self.is_empty():                                        # handles first add. head will return None\n",
    "            self.head.prev_node = new_node\n",
    "        self.head = new_node\n",
    "        \n",
    "    def search (self, key):  # can be called node_at_key\n",
    "        \"\"\"\n",
    "        Search for the first node containing data that matches the key\n",
    "        Return the node or 'None' if not found\n",
    "        Takes O(n) time\n",
    "        \"\"\"\n",
    "        current = self.head\n",
    "        while current:\n",
    "            if current.data == key:\n",
    "                return current\n",
    "            else:\n",
    "                current = current.next_node\n",
    "        return None\n",
    "        \n",
    "        \n",
    "    def node_at_index(self, index):\n",
    "        \"\"\"\n",
    "        Returns the Node at specified index\n",
    "        Takes O(n) time\n",
    "        \"\"\"\n",
    "        if index >= self.size():\n",
    "            return None\n",
    "        if index == 0:\n",
    "            return self.head\n",
    "        current = self.head\n",
    "        position = 0\n",
    "        while position < index:\n",
    "            current = current.next_node\n",
    "            position += 1\n",
    "        return current\n",
    "\n",
    "    \n",
    "    def insert_at_index(self, data, index):\n",
    "        \"\"\"\n",
    "        Inserts a new Node containing data at index position\n",
    "        Insertion takes O(1) time but finding node at insertion point takes\n",
    "        O(n) time.\n",
    "        Takes overall O(n) time.\n",
    "        \"\"\"\n",
    "        if index >= self.size():\n",
    "            prev_node = self.node_at_index(self.size()-1)\n",
    "            new_node = Node2(data, prev_node=prev_node, next_node=None)\n",
    "            prev_node.next_node = new_node\n",
    "            return\n",
    "        if index <= 0:\n",
    "            self.add(data)\n",
    "            return\n",
    "        if index > 0:\n",
    "            current_node = self.node_at_index(index)\n",
    "            prev_node = current_node.prev_node\n",
    "            new_node = Node2(data, prev_node=prev_node, next_node=current_node)\n",
    "            current_node.prev_node = new_node\n",
    "            prev_node.next_node = new_node\n",
    "    \n",
    "    \n",
    "    def insert(self, data, key):\n",
    "        \"\"\"\n",
    "        Inserts a new Node containing data before key position\n",
    "        Insertion takes O(1) time but finding node at insertion point takes O(n) time.\n",
    "        Takes overall O(n) time.\n",
    "        \"\"\"\n",
    "        current_node = self.search(key)\n",
    "        if current_node is None:  # insert at head\n",
    "            self.add(data)\n",
    "            return\n",
    "        prev_node = current_node.prev_node\n",
    "        new_node = Node2(data, prev_node = prev_node, next_node = current_node)\n",
    "        prev_node.next_node = new_node\n",
    "        current_node.prev_node = new_node\n",
    "    \n",
    "\n",
    "    def remove(self, key):\n",
    "        \"\"\"\n",
    "        Removes Node containing data that matches the key\n",
    "        Returns the node or `None` if key doesn't exist\n",
    "        Takes O(n) time\n",
    "        \"\"\"\n",
    "        current_node = self.search(key)                 # [3*] indicate current\n",
    "        self.delete_node(current_node)\n",
    "\n",
    "        \n",
    "    def delete_node(self, node):\n",
    "        current_node = node\n",
    "        if current_node is None:                        # couldn't find node\n",
    "            return None                                                    \n",
    "        if current_node.next_node is None:              # example : [4][3][tail*]\n",
    "            prev_node = current_node.prev_node          # [3]\n",
    "            prev_node.next_node = None                  # [3]->None\n",
    "            return current_node                         # [tail]\n",
    "        if current_node.prev_node is None:              # example : [head*][3]\n",
    "            next_node = current_node.next_node          # [3]\n",
    "            next_node.prev_node = None                  # None<-[3]\n",
    "            self.head = next_node                       # [head*] = [3]\n",
    "            return current_node                         # [head]\n",
    "                                                                          # example : [4][3*][2]\n",
    "        prev_node = current_node.prev_node                                # [4]\n",
    "        prev_node.next_node = current_node.next_node                      # [4]->[2]\n",
    "        next_node = current_node.next_node                                # [2]\n",
    "        next_node.prev_node = prev_node                                   # [4]<-[2]\n",
    "        return current_node                                               # [3]\n",
    "\n",
    "    def remove_at_index(self, index):\n",
    "        \"\"\"\n",
    "        Removes Node at specified index\n",
    "        Takes O(n) time\n",
    "        \"\"\"\n",
    "        current_node = self.node_at_index(index)\n",
    "        self.delete_node(current_node)\n",
    "            \n",
    "        \n",
    "\n",
    "    def __iter__(self):\n",
    "        current = self.head\n",
    "\n",
    "        while current:\n",
    "            yield current\n",
    "            current = current.next_node\n",
    "\n",
    "    \n",
    "    def __repr__(self):\n",
    "        \"\"\"\n",
    "        Return a string representation of the list\n",
    "        Takes O(n) time\n",
    "        \"\"\"\n",
    "        nodes = []\n",
    "        current = self.head\n",
    "        while current:  # is not None\n",
    "            if current is self.head:                                  # the start of the linked list\n",
    "                nodes.append(\"[Head: {}]\".format(current.data))\n",
    "            elif current.next_node is None:                           # current the last item in the linked list\n",
    "                nodes.append(\"[Tail: {}]\".format(current.data))\n",
    "            else:                                                     # not the head or the tail  \n",
    "                nodes.append(\"[{}]\".format(current.data))\n",
    "            current = current.next_node\n",
    "        return '-> <- '.join(nodes)\n",
    "        \n"
   ]
  },
  {
   "cell_type": "markdown",
   "id": "85c7084b",
   "metadata": {},
   "source": [
    "### Examples of using Doubly Linked List"
   ]
  },
  {
   "cell_type": "code",
   "execution_count": 904,
   "id": "b487a81a",
   "metadata": {},
   "outputs": [
    {
     "data": {
      "text/plain": [
       "[Head: 11]-> <- [7]-> <- [Tail: 3]"
      ]
     },
     "execution_count": 904,
     "metadata": {},
     "output_type": "execute_result"
    }
   ],
   "source": [
    "doubly_linked = DoublyLinkedList()\n",
    "doubly_linked.add(3)\n",
    "doubly_linked.add(7)\n",
    "doubly_linked.add(11)\n",
    "doubly_linked"
   ]
  },
  {
   "cell_type": "code",
   "execution_count": 905,
   "id": "0283e6a7",
   "metadata": {},
   "outputs": [
    {
     "data": {
      "text/plain": [
       "3"
      ]
     },
     "execution_count": 905,
     "metadata": {},
     "output_type": "execute_result"
    }
   ],
   "source": [
    "doubly_linked.size()"
   ]
  },
  {
   "cell_type": "code",
   "execution_count": 906,
   "id": "45fc1acd",
   "metadata": {},
   "outputs": [
    {
     "data": {
      "text/plain": [
       "<Node previous: <Node previous: None><Node data: 11> ><Node data: 7> "
      ]
     },
     "execution_count": 906,
     "metadata": {},
     "output_type": "execute_result"
    }
   ],
   "source": [
    "doubly_linked.search(7)"
   ]
  },
  {
   "cell_type": "code",
   "execution_count": 907,
   "id": "6f9727fe",
   "metadata": {},
   "outputs": [
    {
     "data": {
      "text/plain": [
       "<Node previous: <Node previous: <Node previous: None><Node data: 11> ><Node data: 7> ><Node data: 3> "
      ]
     },
     "execution_count": 907,
     "metadata": {},
     "output_type": "execute_result"
    }
   ],
   "source": [
    "doubly_linked.node_at_index(2)"
   ]
  },
  {
   "cell_type": "code",
   "execution_count": 908,
   "id": "2b292219",
   "metadata": {},
   "outputs": [
    {
     "data": {
      "text/plain": [
       "[Head: 12]-> <- [11]-> <- [7]-> <- [Tail: 3]"
      ]
     },
     "execution_count": 908,
     "metadata": {},
     "output_type": "execute_result"
    }
   ],
   "source": [
    "doubly_linked.insert_at_index(12, 0)\n",
    "doubly_linked"
   ]
  },
  {
   "cell_type": "code",
   "execution_count": 909,
   "id": "e034531b",
   "metadata": {},
   "outputs": [
    {
     "data": {
      "text/plain": [
       "[Head: 20]-> <- [12]-> <- [11]-> <- [7]-> <- [Tail: 3]"
      ]
     },
     "execution_count": 909,
     "metadata": {},
     "output_type": "execute_result"
    }
   ],
   "source": [
    "doubly_linked.insert_at_index(20,-4) # out side of scope left side\n",
    "doubly_linked"
   ]
  },
  {
   "cell_type": "code",
   "execution_count": 910,
   "id": "2d092c24",
   "metadata": {},
   "outputs": [
    {
     "data": {
      "text/plain": [
       "[Head: 20]-> <- [12]-> <- [11]-> <- [7]-> <- [3]-> <- [Tail: 2]"
      ]
     },
     "execution_count": 910,
     "metadata": {},
     "output_type": "execute_result"
    }
   ],
   "source": [
    "doubly_linked.insert_at_index(2,5) # out side of scope right side\n",
    "doubly_linked"
   ]
  },
  {
   "cell_type": "code",
   "execution_count": 911,
   "id": "edc240ca",
   "metadata": {},
   "outputs": [
    {
     "data": {
      "text/plain": [
       "[Head: 21]-> <- [20]-> <- [12]-> <- [11]-> <- [7]-> <- [3]-> <- [Tail: 2]"
      ]
     },
     "execution_count": 911,
     "metadata": {},
     "output_type": "execute_result"
    }
   ],
   "source": [
    "doubly_linked.insert(21,77)  # enter a key that doesn't exist\n",
    "doubly_linked"
   ]
  },
  {
   "cell_type": "code",
   "execution_count": 912,
   "id": "b81451d9",
   "metadata": {},
   "outputs": [
    {
     "data": {
      "text/plain": [
       "[Head: 21]-> <- [20]-> <- [15]-> <- [12]-> <- [11]-> <- [7]-> <- [3]-> <- [Tail: 2]"
      ]
     },
     "execution_count": 912,
     "metadata": {},
     "output_type": "execute_result"
    }
   ],
   "source": [
    "doubly_linked.insert(15,12)\n",
    "doubly_linked"
   ]
  },
  {
   "cell_type": "code",
   "execution_count": 913,
   "id": "220181ab",
   "metadata": {},
   "outputs": [
    {
     "name": "stdout",
     "output_type": "stream",
     "text": [
      "None\n"
     ]
    },
    {
     "data": {
      "text/plain": [
       "[Head: 21]-> <- [20]-> <- [12]-> <- [11]-> <- [7]-> <- [3]-> <- [Tail: 2]"
      ]
     },
     "execution_count": 913,
     "metadata": {},
     "output_type": "execute_result"
    }
   ],
   "source": [
    "my_node = doubly_linked.remove(15)\n",
    "print(my_node)\n",
    "doubly_linked"
   ]
  },
  {
   "cell_type": "code",
   "execution_count": 914,
   "id": "d525e2bc",
   "metadata": {},
   "outputs": [
    {
     "data": {
      "text/plain": [
       "[Head: 21]-> <- [20]-> <- [12]-> <- [11]-> <- [7]-> <- [Tail: 3]"
      ]
     },
     "execution_count": 914,
     "metadata": {},
     "output_type": "execute_result"
    }
   ],
   "source": [
    "doubly_linked.remove(2)  # remove at end right side\n",
    "doubly_linked"
   ]
  },
  {
   "cell_type": "code",
   "execution_count": 915,
   "id": "ecad8fda",
   "metadata": {},
   "outputs": [
    {
     "data": {
      "text/plain": [
       "[Head: 20]-> <- [12]-> <- [11]-> <- [7]-> <- [Tail: 3]"
      ]
     },
     "execution_count": 915,
     "metadata": {},
     "output_type": "execute_result"
    }
   ],
   "source": [
    "doubly_linked.remove(21)  # remove head\n",
    "doubly_linked"
   ]
  },
  {
   "cell_type": "code",
   "execution_count": 916,
   "id": "c0abc565",
   "metadata": {},
   "outputs": [
    {
     "data": {
      "text/plain": [
       "[Head: 12]-> <- [11]-> <- [7]-> <- [Tail: 3]"
      ]
     },
     "execution_count": 916,
     "metadata": {},
     "output_type": "execute_result"
    }
   ],
   "source": [
    "doubly_linked.remove_at_index(0)  # remove head\n",
    "doubly_linked"
   ]
  },
  {
   "cell_type": "code",
   "execution_count": 917,
   "id": "37af0d51",
   "metadata": {},
   "outputs": [
    {
     "data": {
      "text/plain": [
       "[Head: 12]-> <- [11]-> <- [Tail: 3]"
      ]
     },
     "execution_count": 917,
     "metadata": {},
     "output_type": "execute_result"
    }
   ],
   "source": [
    "doubly_linked.remove_at_index(2)  # remove tail\n",
    "doubly_linked"
   ]
  },
  {
   "cell_type": "code",
   "execution_count": 918,
   "id": "fd927422",
   "metadata": {},
   "outputs": [
    {
     "data": {
      "text/plain": [
       "[Head: 12]-> <- [Tail: 11]"
      ]
     },
     "execution_count": 918,
     "metadata": {},
     "output_type": "execute_result"
    }
   ],
   "source": [
    "doubly_linked.remove_at_index(2)  #remove from middle\n",
    "doubly_linked"
   ]
  }
 ],
 "metadata": {
  "kernelspec": {
   "display_name": "Python 3",
   "language": "python",
   "name": "python3"
  },
  "language_info": {
   "codemirror_mode": {
    "name": "ipython",
    "version": 3
   },
   "file_extension": ".py",
   "mimetype": "text/x-python",
   "name": "python",
   "nbconvert_exporter": "python",
   "pygments_lexer": "ipython3",
   "version": "3.8.5"
  }
 },
 "nbformat": 4,
 "nbformat_minor": 5
}
